{
 "cells": [
  {
   "cell_type": "code",
   "execution_count": 1,
   "id": "3426d2f0-6552-4999-80eb-8a7fb4535895",
   "metadata": {},
   "outputs": [
    {
     "name": "stdout",
     "output_type": "stream",
     "text": [
      "\u001b[H\u001b[2J\n",
      "         $$\\     $$\\          $$\\                         \n",
      "         \\$$\\   $$  |         $$ |                        \n",
      "          \\$$\\ $$  /$$$$$$\\ $$$$$$\\   $$$$$$$$\\ $$\\   $$\\ \n",
      "           \\$$$$  / \\____$$\\_$$  _|  \\____$$  |$$ |  $$ |\n",
      "            \\$$  /  $$$$$$$ | $$ |      $$$$ _/ $$ |  $$ |\n",
      "             $$ |  $$  __$$ | $$ |$$\\  $$  _/   $$ |  $$ |\n",
      "             $$ |  \\$$$$$$$ | \\$$$$  |$$$$$$$$\\ \\$$$$$$$ |\n",
      "             \\__|   \\_______|  \\____/ \\________| \\____$$ |\n",
      "                                                $$\\   $$ |\n",
      "                                                \\$$$$$$  |\n",
      "                                                 \\______/ \n",
      "        1. Start\n",
      "        2. High Scores\n",
      "\n",
      "        0. Exit program\n",
      "        \n"
     ]
    },
    {
     "name": "stdin",
     "output_type": "stream",
     "text": [
      "Choose form menu (0-2):  0\n"
     ]
    },
    {
     "ename": "NameError",
     "evalue": "name 'exit' is not defined",
     "output_type": "error",
     "traceback": [
      "\u001b[0;31m---------------------------------------------------------------------------\u001b[0m",
      "\u001b[0;31mNameError\u001b[0m                                 Traceback (most recent call last)",
      "Cell \u001b[0;32mIn[1], line 1\u001b[0m\n\u001b[0;32m----> 1\u001b[0m \u001b[38;5;28;01mimport\u001b[39;00m \u001b[38;5;21;01mmain\u001b[39;00m\n\u001b[1;32m      2\u001b[0m main\u001b[38;5;241m.\u001b[39muser_menu()\n",
      "File \u001b[0;32m~/yatzy/main.py:103\u001b[0m\n\u001b[1;32m    100\u001b[0m     \u001b[38;5;28minput\u001b[39m(\u001b[38;5;124m\"\u001b[39m\u001b[38;5;124mEnter to continue\u001b[39m\u001b[38;5;124m\"\u001b[39m)\n\u001b[1;32m    101\u001b[0m     uac\u001b[38;5;241m.\u001b[39mclear_terminal()\n\u001b[0;32m--> 103\u001b[0m \u001b[43muser_menu\u001b[49m\u001b[43m(\u001b[49m\u001b[43m)\u001b[49m\n",
      "File \u001b[0;32m~/yatzy/main.py:39\u001b[0m, in \u001b[0;36muser_menu\u001b[0;34m()\u001b[0m\n\u001b[1;32m     37\u001b[0m         user_menu_input \u001b[38;5;241m=\u001b[39m uac\u001b[38;5;241m.\u001b[39merror_handling_int(\u001b[38;5;124m\"\u001b[39m\u001b[38;5;124m1. Start\u001b[39m\u001b[38;5;130;01m\\n\u001b[39;00m\u001b[38;5;124m2. High Scores\u001b[39m\u001b[38;5;130;01m\\n\u001b[39;00m\u001b[38;5;130;01m\\n\u001b[39;00m\u001b[38;5;130;01m\\n\u001b[39;00m\u001b[38;5;124m0. Exit program\u001b[39m\u001b[38;5;130;01m\\n\u001b[39;00m\u001b[38;5;124mChoose form menu (0-2): \u001b[39m\u001b[38;5;124m\"\u001b[39m)\n\u001b[1;32m     38\u001b[0m \u001b[38;5;28;01mcase\u001b[39;00m \u001b[38;5;241m0\u001b[39m:\n\u001b[0;32m---> 39\u001b[0m         \u001b[43mexit\u001b[49m(\u001b[38;5;241m1\u001b[39m)\n\u001b[1;32m     40\u001b[0m \u001b[38;5;28;01mcase\u001b[39;00m\u001b[38;5;250m \u001b[39m\u001b[38;5;28;01m_\u001b[39;00m:\n\u001b[1;32m     41\u001b[0m         uac\u001b[38;5;241m.\u001b[39mclear_terminal()\n",
      "\u001b[0;31mNameError\u001b[0m: name 'exit' is not defined"
     ]
    }
   ],
   "source": [
    "import main\n",
    "main.user_menu()"
   ]
  },
  {
   "cell_type": "code",
   "execution_count": null,
   "id": "100b0d70-fb56-4e32-bc9f-a38fac3259c3",
   "metadata": {},
   "outputs": [],
   "source": []
  }
 ],
 "metadata": {
  "kernelspec": {
   "display_name": "Python 3 (ipykernel)",
   "language": "python",
   "name": "python3"
  },
  "language_info": {
   "codemirror_mode": {
    "name": "ipython",
    "version": 3
   },
   "file_extension": ".py",
   "mimetype": "text/x-python",
   "name": "python",
   "nbconvert_exporter": "python",
   "pygments_lexer": "ipython3",
   "version": "3.11.9"
  }
 },
 "nbformat": 4,
 "nbformat_minor": 5
}
